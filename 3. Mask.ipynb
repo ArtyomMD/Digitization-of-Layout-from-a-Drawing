{
 "cells": [
  {
   "cell_type": "code",
   "execution_count": 1,
   "id": "8cae951c-0e81-4c8e-ba9e-6fce6af2cb95",
   "metadata": {},
   "outputs": [],
   "source": [
    "import numpy as np\n",
    "import cv2\n",
    "import matplotlib.pyplot as plt\n",
    "from PIL import Image"
   ]
  },
  {
   "cell_type": "code",
   "execution_count": 2,
   "id": "b2bd1c38-fa32-4a07-aed4-6973a222e15f",
   "metadata": {},
   "outputs": [],
   "source": [
    "def block(cons, bot, top):\n",
    "    faces = []\n",
    "    for con in cons:\n",
    "        cp = list(con)\n",
    "        cp += [cp[0]]\n",
    "        for i in range(len(cp)-1):\n",
    "            p1 = cp[i][0]\n",
    "            p2 = cp[i+1][0]\n",
    "            q1 = (p1[0], p1[1], bot)\n",
    "            q2 = (p2[0], p2[1], bot)\n",
    "            q3 = (p2[0], p2[1], top)\n",
    "            q4 = (p1[0], p1[1], top)\n",
    "            faces += [[q1, q2, q3, q4]]\n",
    "    return faces\n",
    "\n",
    "def bound(cons, h):\n",
    "    faces = []\n",
    "    for con in cons:\n",
    "        sur = []\n",
    "        for p in con:\n",
    "            sur += [(p[0][0], p[0][1], h)]\n",
    "        faces += [sur]\n",
    "    return faces"
   ]
  },
  {
   "cell_type": "code",
   "execution_count": 3,
   "id": "378cceaa-4025-45ca-a1fc-9560251cbc4d",
   "metadata": {},
   "outputs": [],
   "source": [
    "yar1, door2, yar3, wind2, yar2, yar4, zone, flor = np.load('./Mask/array.npy')"
   ]
  },
  {
   "cell_type": "code",
   "execution_count": 4,
   "id": "8450669e-5098-47c0-ac2e-eedc35c4f015",
   "metadata": {},
   "outputs": [],
   "source": [
    "import vtkmodules.all as vtk\n",
    "import vtkmodules.util.numpy_support as vtk_np\n",
    "\n",
    "def show_image(image, title=\"Image\", l=False):\n",
    "    plt.imshow(image, cmap='gray')\n",
    "    plt.title(title)\n",
    "    if not l:\n",
    "        plt.axis('off')\n",
    "    plt.show()\n",
    "    \n",
    "def create_wall(points):\n",
    "    # Создание массива точек\n",
    "    points_array = vtk.vtkPoints()\n",
    "    for x, y, z in points:\n",
    "        points_array.InsertNextPoint(x, -y, z)\n",
    "\n",
    "    # Создание полигональной поверхности\n",
    "    polygon = vtk.vtkPolygon()\n",
    "    polygon.GetPointIds().SetNumberOfIds(len(points))\n",
    "    for i in range(len(points)):\n",
    "        polygon.GetPointIds().SetId(i, i)\n",
    "\n",
    "    # Создание ячейки и добавление полигона в нее\n",
    "    cells = vtk.vtkCellArray()\n",
    "    cells.InsertNextCell(polygon)\n",
    "\n",
    "    # Создание полигонального объекта\n",
    "    poly_data = vtk.vtkPolyData()\n",
    "    poly_data.SetPoints(points_array)\n",
    "    poly_data.SetPolys(cells)\n",
    "\n",
    "    # Создание маппера и актера для визуализации\n",
    "    mapper = vtk.vtkPolyDataMapper()\n",
    "    mapper.SetInputData(poly_data)\n",
    "\n",
    "    actor = vtk.vtkActor()\n",
    "    actor.SetMapper(mapper)\n",
    "    actor.GetProperty().SetColor(0.5, 0.5, 0.5)  # Цвет в формате RGB\n",
    "\n",
    "    return actor\n",
    "\n",
    "def get_mask(points, camera_position=(10, 10, 10), focal_point=(0, 0, 0), view_up=(0, 1, 0), view_angle=30.0):\n",
    "    renderer = vtk.vtkRenderer()\n",
    "    renderer.SetBackground(1, 1, 1)  # Белый фон\n",
    "\n",
    "    for i in points:\n",
    "        actor = create_wall(i)\n",
    "        renderer.AddActor(actor)\n",
    "\n",
    "    render_window = vtk.vtkRenderWindow()\n",
    "    render_window.SetOffScreenRendering(1)  # Отключить отображение окна\n",
    "    render_window.SetSize(1024, 1024)\n",
    "    render_window.AddRenderer(renderer)\n",
    "\n",
    "    # Настройка камеры\n",
    "    camera = vtk.vtkCamera()\n",
    "    camera.SetPosition(camera_position)\n",
    "    camera.SetFocalPoint(focal_point)\n",
    "    camera.SetViewUp(view_up)\n",
    "    camera.SetViewAngle(view_angle)\n",
    "    renderer.SetActiveCamera(camera)\n",
    "    renderer.ResetCameraClippingRange()\n",
    "\n",
    "    render_window.Render()\n",
    "\n",
    "    # Извлечение данных из буфера глубины\n",
    "    window_size = render_window.GetSize()\n",
    "    z_buffer = vtk.vtkFloatArray()\n",
    "    render_window.GetZbufferData(0, 0, window_size[0] - 1, window_size[1] - 1, z_buffer)\n",
    "\n",
    "    # Преобразование в numpy массив\n",
    "    z_buffer_np = vtk_np.vtk_to_numpy(z_buffer)\n",
    "    z_buffer_np = z_buffer_np.reshape(window_size[1], window_size[0])\n",
    "\n",
    "    # Инвертирование буфера глубины (чтобы ближние значения были больше)\n",
    "    z_buffer_np = 1 - z_buffer_np\n",
    "\n",
    "    return z_buffer_np\n",
    "\n",
    "def plot_3d_wall(points):\n",
    "    renderer = vtk.vtkRenderer()\n",
    "    renderer.SetBackground(1, 1, 1)\n",
    "    \n",
    "    for i in points:\n",
    "        actor = create_wall(i)\n",
    "        renderer.AddActor(actor)\n",
    "\n",
    "    render_window = vtk.vtkRenderWindow()\n",
    "    render_window.SetWindowName(\"3D Модель стены\")\n",
    "    render_window.SetSize(800, 600)\n",
    "    render_window.AddRenderer(renderer)\n",
    "\n",
    "    render_window_interactor = vtk.vtkRenderWindowInteractor()\n",
    "    render_window_interactor.SetRenderWindow(render_window)\n",
    "\n",
    "    render_window.Render()\n",
    "    render_window_interactor.Start()"
   ]
  },
  {
   "cell_type": "code",
   "execution_count": 5,
   "id": "1846a5c3-078c-4b45-a28c-360de59226f8",
   "metadata": {},
   "outputs": [],
   "source": [
    "hi = int(120)\n",
    "po = int(hi*0.28)\n",
    "do = int(hi*0.79)\n",
    "wi = int(hi*0.86)"
   ]
  },
  {
   "cell_type": "code",
   "execution_count": 6,
   "id": "b8794da6-583c-4d30-8d76-ab4c06bb6ce9",
   "metadata": {},
   "outputs": [],
   "source": [
    "w1 = block(cv2.findContours(yar1, cv2.RETR_TREE, cv2.CHAIN_APPROX_SIMPLE)[0], 0, po)\n",
    "w2 = block(cv2.findContours(yar2, cv2.RETR_TREE, cv2.CHAIN_APPROX_SIMPLE)[0], po, do)\n",
    "w3 = block(cv2.findContours(yar3, cv2.RETR_TREE, cv2.CHAIN_APPROX_SIMPLE)[0], do, wi)\n",
    "w4 = block(cv2.findContours(yar4, cv2.RETR_TREE, cv2.CHAIN_APPROX_SIMPLE)[0], wi, hi)\n",
    "fl = bound(cv2.findContours(flor, cv2.RETR_TREE, cv2.CHAIN_APPROX_SIMPLE)[0], 0)\n",
    "ci = bound(cv2.findContours(flor, cv2.RETR_TREE, cv2.CHAIN_APPROX_SIMPLE)[0], hi)\n",
    "dv = bound(cv2.findContours(door2, cv2.RETR_TREE, cv2.CHAIN_APPROX_SIMPLE)[0], do)\n",
    "okno = cv2.findContours(wind2, cv2.RETR_TREE, cv2.CHAIN_APPROX_SIMPLE)[0]\n",
    "pk = bound(okno, po)\n",
    "pw = bound(okno, wi)\n",
    "mesh = w1+w2+w3+w4+fl+dv+pk+pw+ci"
   ]
  },
  {
   "cell_type": "code",
   "execution_count": 8,
   "id": "03ed81b6-becb-4b6a-9fb4-4c46eb2f15a5",
   "metadata": {},
   "outputs": [],
   "source": [
    "plot_3d_wall(mesh)"
   ]
  },
  {
   "cell_type": "code",
   "execution_count": 82,
   "id": "5d273ac3-a8ce-487e-9f5e-1c1db48aeb3d",
   "metadata": {},
   "outputs": [
    {
     "data": {
      "image/png": "[encoded data removed]",
      "text/plain": [
       "<Figure size 640x480 with 1 Axes>"
      ]
     },
     "metadata": {},
     "output_type": "display_data"
    }
   ],
   "source": [
    "show_image(yar2, l=True)"
   ]
  },
  {
   "cell_type": "code",
   "execution_count": 97,
   "id": "c1cd11ff-b959-460f-8763-d007601b8da9",
   "metadata": {},
   "outputs": [
    {
     "data": {
      "image/png": "[encoded data removed]",
      "text/plain": [
       "<Figure size 640x480 with 1 Axes>"
      ]
     },
     "metadata": {},
     "output_type": "display_data"
    }
   ],
   "source": [
    "camera_position = (330, -350, 65)\n",
    "focal_point = (200, -420, 65)\n",
    "view_up = (0, 0, 1)\n",
    "\n",
    "dm = get_mask(mesh, camera_position, focal_point, view_up, 90)\n",
    "show_image(dm[::-1])\n",
    "dm -= dm.min()\n",
    "dm /= dm.max()\n",
    "img = Image.fromarray((dm[::-1]*255).astype(np.uint8))\n",
    "img.save('./Image generation/1.jpg')"
   ]
  },
  {
   "cell_type": "code",
   "execution_count": 98,
   "id": "458a426b-34f2-4f7d-b8c4-e43af1ebccc6",
   "metadata": {},
   "outputs": [
    {
     "data": {
      "image/png": "[encoded data removed]",
      "text/plain": [
       "<Figure size 640x480 with 1 Axes>"
      ]
     },
     "metadata": {},
     "output_type": "display_data"
    }
   ],
   "source": [
    "camera_position = (150, -200, 65)\n",
    "focal_point = (350, -210, 65)\n",
    "view_up = (0, 0, 1)\n",
    "\n",
    "dm = get_mask(mesh, camera_position, focal_point, view_up, 90)\n",
    "show_image(dm[::-1])\n",
    "dm -= dm.min()\n",
    "dm /= dm.max()\n",
    "img = Image.fromarray((dm[::-1]*255).astype(np.uint8))\n",
    "img.save('./Image generation/2.jpg')"
   ]
  },
  {
   "cell_type": "code",
   "execution_count": 99,
   "id": "00926fde-853f-4ae9-96f7-168cfeeef8bc",
   "metadata": {},
   "outputs": [
    {
     "data": {
      "image/png": "[encoded data removed]",
      "text/plain": [
       "<Figure size 640x480 with 1 Axes>"
      ]
     },
     "metadata": {},
     "output_type": "display_data"
    }
   ],
   "source": [
    "camera_position = (210, -170, 65)\n",
    "focal_point = (210, -400, 65)\n",
    "view_up = (0, 0, 1)\n",
    "\n",
    "dm = get_mask(mesh, camera_position, focal_point, view_up, 90)\n",
    "show_image(dm[::-1])\n",
    "dm -= dm.min()\n",
    "dm /= dm.max()\n",
    "img = Image.fromarray((dm[::-1]*255).astype(np.uint8))\n",
    "img.save('./Image generation/3.jpg')"
   ]
  },
  {
   "cell_type": "code",
   "execution_count": 100,
   "id": "7a3a8cf8-d725-4591-967e-2dc7d7e347ab",
   "metadata": {},
   "outputs": [
    {
     "data": {
      "image/png": "[encoded data removed]",
      "text/plain": [
       "<Figure size 640x480 with 1 Axes>"
      ]
     },
     "metadata": {},
     "output_type": "display_data"
    }
   ],
   "source": [
    "camera_position = (200, -350, 65)\n",
    "focal_point = (360, -380, 65)\n",
    "view_up = (0, 0, 1)\n",
    "\n",
    "dm = get_mask(mesh, camera_position, focal_point, view_up, 90)\n",
    "show_image(dm[::-1])\n",
    "dm -= dm.min()\n",
    "dm /= dm.max()\n",
    "img = Image.fromarray((dm[::-1]*255).astype(np.uint8))\n",
    "img.save('./Image generation/4.jpg')"
   ]
  }
 ],
 "metadata": {
  "kernelspec": {
   "display_name": "Python 3 (ipykernel)",
   "language": "python",
   "name": "python3"
  },
  "language_info": {
   "codemirror_mode": {
    "name": "ipython",
    "version": 3
   },
   "file_extension": ".py",
   "mimetype": "text/x-python",
   "name": "python",
   "nbconvert_exporter": "python",
   "pygments_lexer": "ipython3",
   "version": "3.11.7"
  }
 },
 "nbformat": 4,
 "nbformat_minor": 5
}
